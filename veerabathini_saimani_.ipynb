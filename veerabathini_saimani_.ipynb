{
  "nbformat": 4,
  "nbformat_minor": 0,
  "metadata": {
    "colab": {
      "name": "aparna karam reddy.ipynb",
      "provenance": [],
      "collapsed_sections": []
    },
    "kernelspec": {
      "name": "python3",
      "display_name": "Python 3"
    },
    "language_info": {
      "name": "python"
    }
  },
  "cells": [
    {
      "cell_type": "code",
      "metadata": {
        "id": "_6hojFldPqU3"
      },
      "source": [
        "import requests\n",
        "#import os\n",
        "from datetime import datetime"
      ],
      "execution_count": 1,
      "outputs": []
    },
    {
      "cell_type": "code",
      "metadata": {
        "colab": {
          "base_uri": "https://localhost:8080/"
        },
        "id": "CbutPCG8RVwH",
        "outputId": "c2c868ae-0be2-44f8-eb18-c250b960c195"
      },
      "source": [
        "api_key = '87d845b0b6cf29baa1a73cc34b067a95'\n",
        "location = input(\"enter the city name\")"
      ],
      "execution_count": 2,
      "outputs": [
        {
          "output_type": "stream",
          "text": [
            "enter the city nameranchi\n"
          ],
          "name": "stdout"
        }
      ]
    },
    {
      "cell_type": "code",
      "metadata": {
        "id": "ZSELPWTNTBjU"
      },
      "source": [
        "complete_api_link = \"https://api.openweathermap.org/data/2.5/weather?q=\"+location+\"&appid=\"+api_key\n",
        "api_key = requests.get(complete_api_link)\n",
        "api_data = api_key.json()"
      ],
      "execution_count": 3,
      "outputs": []
    },
    {
      "cell_type": "code",
      "metadata": {
        "id": "Qt44e2zaVA_p"
      },
      "source": [
        "#create variables to store and display data\n",
        "temp_city = ((api_data['main']['temp'])-273.15)\n",
        "weather_desc = api_data['weather'][0]['description']\n",
        "hmdt = api_data['main']['humidity']\n",
        "wind_spd = api_data['wind']['speed']\n",
        "date_time = datetime.now().strftime(\"%d %b %y | %I:%M:%s %p\")"
      ],
      "execution_count": 4,
      "outputs": []
    },
    {
      "cell_type": "code",
      "metadata": {
        "colab": {
          "base_uri": "https://localhost:8080/"
        },
        "id": "-8Qvs3gSVRV3",
        "outputId": "5fc3bf3f-d2d9-47d2-d2a5-10c224efdfe3"
      },
      "source": [
        "print (\"------------------------------------------------------------\")\n",
        "print (\"weather stats for - {} || {}\".format(location.upper(), date_time))\n",
        "print (\"------------------------------------------------------------\")"
      ],
      "execution_count": 5,
      "outputs": [
        {
          "output_type": "stream",
          "text": [
            "------------------------------------------------------------\n",
            "weather stats for - RANCHI || 22 Jun 21 | 07:02:1624345343 AM\n",
            "------------------------------------------------------------\n"
          ],
          "name": "stdout"
        }
      ]
    },
    {
      "cell_type": "code",
      "metadata": {
        "colab": {
          "base_uri": "https://localhost:8080/"
        },
        "id": "mptGs0rxYiA7",
        "outputId": "d1fc0d67-acab-4503-ee21-722a23cb5af6"
      },
      "source": [
        "print (\"current temperature is: {:.2f} deg c\".format(temp_city))\n",
        "print (\"current weather desc  :\",weather_desc)\n",
        "print (\"current Humdity       :\",hmdt, '%')\n",
        "print (\"current wind speed    :\",wind_spd , 'kmph')"
      ],
      "execution_count": 6,
      "outputs": [
        {
          "output_type": "stream",
          "text": [
            "current temperature is: 31.06 deg c\n",
            "current weather desc  : haze\n",
            "current Humdity       : 66 %\n",
            "current wind speed    : 1.54 kmph\n"
          ],
          "name": "stdout"
        }
      ]
    }
  ]
}